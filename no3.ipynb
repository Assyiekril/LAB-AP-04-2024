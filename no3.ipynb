{
 "cells": [
  {
   "cell_type": "code",
   "execution_count": 2,
   "metadata": {},
   "outputs": [
    {
     "name": "stdout",
     "output_type": "stream",
     "text": [
      "Status Kelulusan: Tidak Lulus.\n"
     ]
    }
   ],
   "source": [
    "nilai_akhir\t\t= float(input(\"Masukkan nilai akhir mahasiswa (0-100): \"))\n",
    "kehadiran\t\t= float(input(\"Masukkan persentase kehadiran mahasiswa (0-100): \"))\n",
    "tugas_tambahan\t= float(input(\"Masukkan nilai rata-rata tugas tambahan (0-100): \"))\n",
    "\n",
    "if kehadiran < 75:\n",
    "    status = \"Tidak Lulus: Kehadiran kurang dari 75%.\"\n",
    "elif nilai_akhir >= 85:\n",
    "    status = \"Lulus dengan Predikat A.\"\n",
    "elif nilai_akhir >= 70:\n",
    "    status = \"Lulus dengan Predikat B.\"\n",
    "elif nilai_akhir >= 60:\n",
    "    status = \"Lulus dengan Predikat C.\"\n",
    "else:\n",
    "    status = \"Lulus dengan Predikat C.\" if tugas_tambahan >= 70 else \"Tidak Lulus.\"\n",
    "\n",
    "print(f\"Status Kelulusan: {status}\")"
   ]
  }
 ],
 "metadata": {
  "kernelspec": {
   "display_name": "Python 3",
   "language": "python",
   "name": "python3"
  },
  "language_info": {
   "codemirror_mode": {
    "name": "ipython",
    "version": 3
   },
   "file_extension": ".py",
   "mimetype": "text/x-python",
   "name": "python",
   "nbconvert_exporter": "python",
   "pygments_lexer": "ipython3",
   "version": "3.12.5"
  }
 },
 "nbformat": 4,
 "nbformat_minor": 2
}
