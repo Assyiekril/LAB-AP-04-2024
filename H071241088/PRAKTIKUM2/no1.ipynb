{
 "cells": [
  {
   "cell_type": "code",
   "execution_count": null,
   "metadata": {},
   "outputs": [],
   "source": [
    "a = float(input(\"Masukkan panjang sisi pertama (a): \"))\n",
    "b = float(input(\"Masukkan panjang sisi kedua (b): \"))\n",
    "c = float(input(\"Masukkan panjang sisi ketiga (c): \"))\n",
    "\n",
    "if a <= 0 or b <= 0 or c <= 0:\n",
    "    print(\"Panjang sisi tidak boleh nol atau negatif.\")\n",
    "elif a + b <= c or a + c <= b or b + c <= a:\n",
    "    print(\"Sisi-sisi ini tidak dapat membentuk segitiga yang valid.\")\n",
    "else:\n",
    "    if a == b == c:\n",
    "        print(\"Segitiga Sama Sisi: Semua sisi memiliki panjang yang sama.\")\n",
    "    elif a == b or b == c or a == c:\n",
    "        print(\"Segitiga Sama Kaki: Dua sisi memiliki panjang yang sama.\")\n",
    "    else:\n",
    "        print(\"Segitiga Sembarang: Semua sisi memiliki panjang yang berbeda.\")"
   ]
  }
 ],
 "metadata": {
  "language_info": {
   "name": "python"
  }
 },
 "nbformat": 4,
 "nbformat_minor": 2
}
