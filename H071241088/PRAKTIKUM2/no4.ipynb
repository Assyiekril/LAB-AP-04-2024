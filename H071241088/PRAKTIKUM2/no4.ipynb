{
 "cells": [
  {
   "cell_type": "code",
   "execution_count": 2,
   "metadata": {},
   "outputs": [
    {
     "name": "stdout",
     "output_type": "stream",
     "text": [
      "Paket yang sesuai: Tidak ada paket yang cocok\n"
     ]
    }
   ],
   "source": [
    "penggunaan_data\t\t= float(input(\"Masukkan penggunaan data bulanan (dalam GB): \"))\n",
    "waktu_penggunaan\t= input(\"Apakah mayoritas penggunaan di luar jam sibuk (11 malam - 7 pagi)? (ya/tidak): \")\n",
    "jenis_pengguna\t\t= input(\"Masukkan jenis pengguna (personal/bisnis): \")\n",
    "\n",
    "if penggunaan_data < 10:\n",
    "    kategori_penggunaan = \"ringan\"\n",
    "elif 10 <= penggunaan_data <= 50:\n",
    "    kategori_penggunaan = \"sedang\"\n",
    "else:\n",
    "    kategori_penggunaan = \"berat\"\n",
    "\n",
    "if kategori_penggunaan == \"ringan\" and waktu_penggunaan == \"ya\" and jenis_pengguna == \"personal\":\n",
    "    paket = \"Paket A, Penggunaan Ringan dengan mayoritas penggunaan di Luar Jam Sibuk oleh Pengguna Personal.\"\n",
    "elif kategori_penggunaan == \"sedang\" and waktu_penggunaan == \"tidak\" and jenis_pengguna == \"personal\":\n",
    "    paket = \"Paket B, Penggunaan Sedang dengan mayoritas penggunaan di Jam Sibuk oleh Pengguna Personal.\"\n",
    "elif kategori_penggunaan == \"berat\":\n",
    "    if waktu_penggunaan == \"tidak\":\n",
    "        paket = \"Paket C, Penggunaan Berat oleh Pengguna Personal atau Bisnis yang mayoritas penggunaannya di Jam Sibuk.\"\n",
    "    elif waktu_penggunaan == \"ya\" and jenis_pengguna == \"bisnis\":\n",
    "        paket = \"Paket D, Penggunaan Berat dengan mayoritas penggunaan di Luar Jam Sibuk oleh Pengguna Bisnis.\"\n",
    "    else:\n",
    "        paket = \"Tidak ada paket yang cocok.\"\n",
    "else:\n",
    "    paket = \"Tidak ada paket yang cocok\"\n",
    "\n",
    "print(f\"Paket yang sesuai: {paket}\")"
   ]
  }
 ],
 "metadata": {
  "kernelspec": {
   "display_name": "Python 3",
   "language": "python",
   "name": "python3"
  },
  "language_info": {
   "codemirror_mode": {
    "name": "ipython",
    "version": 3
   },
   "file_extension": ".py",
   "mimetype": "text/x-python",
   "name": "python",
   "nbconvert_exporter": "python",
   "pygments_lexer": "ipython3",
   "version": "3.12.5"
  }
 },
 "nbformat": 4,
 "nbformat_minor": 2
}
