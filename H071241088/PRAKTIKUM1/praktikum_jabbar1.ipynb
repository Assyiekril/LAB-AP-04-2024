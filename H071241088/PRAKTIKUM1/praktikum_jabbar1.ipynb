{
 "cells": [
  {
   "cell_type": "code",
   "execution_count": 23,
   "metadata": {},
   "outputs": [
    {
     "name": "stdout",
     "output_type": "stream",
     "text": [
      "Perubahan persentase harga saham: -12.50%\n",
      "Rekomendasi investasi: BELI\n"
     ]
    }
   ],
   "source": [
    "#input harga saham kemarin\n",
    "harga_saham_kemarin = float(input(\"masukkan harga saham kemarin\"))\n",
    "\n",
    "harga_saham_hari_ini = 105.0\n",
    "rekomendasi = [\"BELI\", \"TAHAN\", \"JUAL\"]\n",
    "\n",
    "perubahan_persentase = ((harga_saham_hari_ini - harga_saham_kemarin) / harga_saham_kemarin) * 100\n",
    "\n",
    "results = rekomendasi[(perubahan_persentase > -3) + (perubahan_persentase > 5)]\n",
    "\n",
    "print(f\"Perubahan persentase harga saham: {perubahan_persentase:.2f}%\")\n",
    "print(f\"Rekomendasi investasi: {results}\")\n",
    "\n"
   ]
  },
  {
   "cell_type": "code",
   "execution_count": 27,
   "metadata": {},
   "outputs": [
    {
     "name": "stdout",
     "output_type": "stream",
     "text": [
      "'ya' merupakan bagian dari 'ayam'\n"
     ]
    }
   ],
   "source": [
    "# Input dari pengguna\n",
    "karakter = input(\"Masukkan karakter yang ingin dicari: \")\n",
    "kalimat = input(\"Masukkan kalimat: \")\n",
    "\n",
    "# Menggunakan operator `in` untuk memeriksa keberadaan karakter dan memilih pesan\n",
    "pesan = [\"tidak ditemukan dalam\", \"merupakan bagian dari\"][karakter in kalimat]\n",
    "\n",
    "# Menampilkan pesan\n",
    "print(f\"'{karakter}' {pesan} '{kalimat}'\")"
   ]
  },
  {
   "cell_type": "code",
   "execution_count": 8,
   "metadata": {},
   "outputs": [
    {
     "name": "stdout",
     "output_type": "stream",
     "text": [
      "16:04:24\n"
     ]
    }
   ],
   "source": [
    "# Input jumlah detik dari pengguna\n",
    "total_detik = int(input(\"Masukkan jumlah detik: \"))\n",
    "\n",
    "# Menghitung jumlah jam, menit, dan detik\n",
    "jam = total_detik // 3600  # 1 jam = 3600 detik\n",
    "menit = (total_detik % 3600) // 60  # Sisa detik setelah diambil jam dibagi 60 untuk menit\n",
    "detik = total_detik % 60  # Sisa detik setelah diambil jam dan menit\n",
    "\n",
    "# Menampilkan hasil\n",
    "print(f\"{jam:02}:{menit:02}:{detik:02}\")"
   ]
  },
  {
   "cell_type": "code",
   "execution_count": 9,
   "metadata": {},
   "outputs": [
    {
     "name": "stdout",
     "output_type": "stream",
     "text": [
      "Suhu dalam Kelvin: 323.15 K\n",
      "Suhu dalam Reamur: 40.00 °Re\n",
      "Suhu dalam Fahrenheit: 122.00 °F\n"
     ]
    }
   ],
   "source": [
    "# Input suhu dalam Celcius dari pengguna\n",
    "suhu_celcius = float(input(\"Masukkan suhu dalam Celcius: \"))\n",
    "\n",
    "# Menghitung konversi ke skala lain\n",
    "suhu_kelvin = suhu_celcius + 273.15        # Konversi ke Kelvin\n",
    "suhu_reamur = suhu_celcius * 4 / 5         # Konversi ke Reamur\n",
    "suhu_fahrenheit = (suhu_celcius * 9 / 5) + 32  # Konversi ke Fahrenheit\n",
    "\n",
    "# Menampilkan hasil konversi\n",
    "print(f\"Suhu dalam Kelvin: {suhu_kelvin:.2f} K\")\n",
    "print(f\"Suhu dalam Reamur: {suhu_reamur:.2f} °Re\")\n",
    "print(f\"Suhu dalam Fahrenheit: {suhu_fahrenheit:.2f} °F\")"
   ]
  },
  {
   "cell_type": "code",
   "execution_count": 21,
   "metadata": {},
   "outputs": [
    {
     "name": "stdout",
     "output_type": "stream",
     "text": [
      "2.000\n"
     ]
    }
   ],
   "source": [
    "x = 2\n",
    "\n",
    "print(f\"{x:.3f}\")"
   ]
  }
 ],
 "metadata": {
  "kernelspec": {
   "display_name": "Python 3",
   "language": "python",
   "name": "python3"
  },
  "language_info": {
   "codemirror_mode": {
    "name": "ipython",
    "version": 3
   },
   "file_extension": ".py",
   "mimetype": "text/x-python",
   "name": "python",
   "nbconvert_exporter": "python",
   "pygments_lexer": "ipython3",
   "version": "3.12.5"
  }
 },
 "nbformat": 4,
 "nbformat_minor": 2
}
