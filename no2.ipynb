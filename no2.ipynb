{
 "cells": [
  {
   "cell_type": "code",
   "execution_count": null,
   "metadata": {},
   "outputs": [],
   "source": [
    "usia\t\t= int(input(\"Masukkan usia: \"))\n",
    "keanggotaan = input(\"Apakah Anda anggota? (ya/tidak): \")\n",
    "\n",
    "if usia < 5:\n",
    "    harga_tiket = 0\n",
    "elif 5 <= usia <= 12:\n",
    "    harga_tiket = 50000\n",
    "elif 13 <= usia <= 59:\n",
    "    harga_tiket = 100000\n",
    "else:\n",
    "    harga_tiket = 70000\n",
    "\n",
    "harga_total = harga_tiket * 0.8 if keanggotaan == 'ya' else harga_tiket\n",
    "\n",
    "print(f\"Harga tiket yang harus dibayar: Rp{int(harga_total)}\")\n"
   ]
  }
 ],
 "metadata": {
  "language_info": {
   "name": "python"
  }
 },
 "nbformat": 4,
 "nbformat_minor": 2
}
